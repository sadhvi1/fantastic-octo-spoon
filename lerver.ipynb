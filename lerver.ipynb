{
 "cells": [
  {
   "cell_type": "code",
   "execution_count": 2,
   "metadata": {},
   "outputs": [
    {
     "name": "stdout",
     "output_type": "stream",
     "text": [
      "signature of class E\n",
      "signature of class  D\n",
      "Signature of class C\n",
      "signature of class B\n",
      "class A created with no arguments\n"
     ]
    }
   ],
   "source": [
    "# Class A created\n",
    "# class A is parent class\n",
    " \n",
    "class A():\n",
    "    def function1(self):\n",
    "        print(\"class A created with no arguments\")\n",
    "\n",
    "\n",
    "# Sub child class B under multilevel inheritance\n",
    "# class B inheriting class A\n",
    "\n",
    "\n",
    "class B(A):\n",
    "    def function2(self):\n",
    "        print('signature of class B')\n",
    "\n",
    "\n",
    "# sub child class C under hierarchical inhertance\n",
    "# class C is inheriting class B\n",
    "\n",
    "class C(B):\n",
    "    def function3(self):\n",
    "        print(\"Signature of class C\")\n",
    "\n",
    "# Sub child class D also under hierarchical inheritance\n",
    "# Class D inheriting class B\n",
    "\n",
    "\n",
    "class D(B):\n",
    "    def function4(self):\n",
    "        print('signature of class  D')\n",
    "\n",
    "\n",
    "#sub child class E hybrid inheritance\n",
    "# class E is inheriting Class C and class D\n",
    "\n",
    "\n",
    "class E(C,D):\n",
    "    def function5(self):\n",
    "        print(\"signature of class E\")\n",
    "\n",
    "# creating object of class E \n",
    "e=E()\n",
    "\n",
    "# calling functions\n",
    "e.function5()\n",
    "e.function4()\n",
    "e.function3()\n",
    "e.function2()\n",
    "e.function1()\n"
   ]
  }
 ],
 "metadata": {
  "kernelspec": {
   "display_name": "Python 3.10.4 64-bit",
   "language": "python",
   "name": "python3"
  },
  "language_info": {
   "codemirror_mode": {
    "name": "ipython",
    "version": 3
   },
   "file_extension": ".py",
   "mimetype": "text/x-python",
   "name": "python",
   "nbconvert_exporter": "python",
   "pygments_lexer": "ipython3",
   "version": "3.10.4"
  },
  "orig_nbformat": 4,
  "vscode": {
   "interpreter": {
    "hash": "369f2c481f4da34e4445cda3fffd2e751bd1c4d706f27375911949ba6bb62e1c"
   }
  }
 },
 "nbformat": 4,
 "nbformat_minor": 2
}
