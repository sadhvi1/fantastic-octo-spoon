{
 "cells": [
  {
   "cell_type": "code",
   "execution_count": 19,
   "metadata": {},
   "outputs": [
    {
     "name": "stdout",
     "output_type": "stream",
     "text": [
      "Calulating area of rectangle:  21\n",
      "Calculating volume of cube:  27\n"
     ]
    }
   ],
   "source": [
    "from cmath import pi\n",
    "def area(s1,s2=None):\n",
    "    if(s1!=s2):\n",
    "        print(\"Calulating area of rectangle: \",s1*s2)\n",
    "    elif(s2==None):\n",
    "        print(\"Calculating area of circle: \",pi*s1**2)\n",
    "    elif(s1==s2):\n",
    "        print(\"Calculating area of square: \",s1**2)\n",
    "    else:\n",
    "        print(\"No input found\")\n",
    "area(7,3)\n",
    "\n",
    "def volume(s1,s2=None,s3=None):\n",
    "    if(s1==s2!=s3):\n",
    "        print(\"Volume of cuboid: \",s1*s2*s3)\n",
    "    elif(s2==None and s3==None):\n",
    "        print(\"Volume of sphere: \",(4/3)*pi*s1**3)\n",
    "    else:\n",
    "        print(\"Calculating volume of cube: \",s1**3)\n",
    "volume(3,3,3)"
   ]
  }
 ],
 "metadata": {
  "kernelspec": {
   "display_name": "Python 3.10.8 64-bit",
   "language": "python",
   "name": "python3"
  },
  "language_info": {
   "codemirror_mode": {
    "name": "ipython",
    "version": 3
   },
   "file_extension": ".py",
   "mimetype": "text/x-python",
   "name": "python",
   "nbconvert_exporter": "python",
   "pygments_lexer": "ipython3",
   "version": "3.10.8"
  },
  "orig_nbformat": 4,
  "vscode": {
   "interpreter": {
    "hash": "369f2c481f4da34e4445cda3fffd2e751bd1c4d706f27375911949ba6bb62e1c"
   }
  }
 },
 "nbformat": 4,
 "nbformat_minor": 2
}
