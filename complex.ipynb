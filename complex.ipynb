{
 "cells": [
  {
   "cell_type": "code",
   "execution_count": 24,
   "metadata": {},
   "outputs": [
    {
     "name": "stdout",
     "output_type": "stream",
     "text": [
      "Complex number:  (5+9j)\n",
      "Real part of complex number:  5.0\n",
      "Imaginary part of complex number:  9.0\n"
     ]
    }
   ],
   "source": [
    "# Importing cmath for mathematicaln operations\n",
    "import math\n",
    "import cmath\n",
    "\n",
    "# Taking complex number as input\n",
    "\n",
    "x=int(input(\"Real part of complex number: \"))\n",
    "y=int(input(\"Imaginary part of complex number: \"))\n",
    "z=complex(x,y);\n",
    "\n",
    "print(\"Complex number: \",z)\n",
    "print(\"Real part of complex number: \",z.real)\n",
    "print('Imaginary part of complex number: ',z.imag)\n",
    "\n",
    "\n"
   ]
  },
  {
   "cell_type": "code",
   "execution_count": 25,
   "metadata": {},
   "outputs": [
    {
     "name": "stdout",
     "output_type": "stream",
     "text": [
      "Phase of the complex number:  1.0636978224025597\n"
     ]
    }
   ],
   "source": [
    "# Phase angle of in argand plane\n",
    "print(\"Phase of the complex number: \",cmath.phase(z))"
   ]
  },
  {
   "cell_type": "code",
   "execution_count": 26,
   "metadata": {},
   "outputs": [
    {
     "name": "stdout",
     "output_type": "stream",
     "text": [
      "The modulus and argument of complex number:  (10.295630140987, 1.0636978224025597)\n",
      "The rectangular form of complex number:  (3.0000000000000004+3.9999999999999996j)\n"
     ]
    }
   ],
   "source": [
    "# Dealing complex number in polar and rectangular form\n",
    "# Below command convert complex number in polar form from initial rectangular form\n",
    "\n",
    "p=cmath.polar(z)\n",
    "print(\"The modulus and argument of complex number: \",p)\n",
    "\n",
    "# Below command converts complex number into rectangular form from polar form\n",
    "\n",
    "r=cmath.rect(5.0,0.9272952180016122)\n",
    "print(\"The rectangular form of complex number: \",r)"
   ]
  },
  {
   "cell_type": "code",
   "execution_count": 27,
   "metadata": {},
   "outputs": [
    {
     "name": "stdout",
     "output_type": "stream",
     "text": [
      "The square root of complex number z:  (2.765468327515884+1.6272108254597804j)\n"
     ]
    }
   ],
   "source": [
    "# solving for square root of complex numbers\n",
    "s=cmath.sqrt(z)\n",
    "print(\"The square root of complex number z: \",s)"
   ]
  },
  {
   "cell_type": "code",
   "execution_count": 29,
   "metadata": {},
   "outputs": [
    {
     "name": "stdout",
     "output_type": "stream",
     "text": [
      "complex number z1:  (5+6j)\n",
      "Complex number z2: (9+2j)\n"
     ]
    }
   ],
   "source": [
    "# Taking two complex number for example to perform mathematical operations\n",
    "x1=int(input())\n",
    "y1=int(input())\n",
    "x2=int(input())\n",
    "y2=int(input())\n",
    "z1=complex(x1,y1)\n",
    "z2=complex(x2,y2)\n",
    "print(\"complex number z1: \",z1)\n",
    "print(\"Complex number z2:\",z2)"
   ]
  },
  {
   "cell_type": "code",
   "execution_count": 30,
   "metadata": {},
   "outputs": [
    {
     "name": "stdout",
     "output_type": "stream",
     "text": [
      "Addition of z1 and z2:  (14+8j)\n",
      "Subtraction of z1 and z2: (-4+4j)\n",
      "Mulitplication of z1 and z2:  (33+64j)\n"
     ]
    }
   ],
   "source": [
    "# Simple mathematical operations on complex numbers like addition,subtraction and multiplication\n",
    "# Will be using opps concepts\n",
    "\n",
    "class operations:\n",
    "    def addition(self,z1,z2):\n",
    "        z3=z1+z2\n",
    "        print(\"Addition of z1 and z2: \",z3)\n",
    "    def subtract(self,z1,z2):\n",
    "        z4=z1-z2\n",
    "        print(\"Subtraction of z1 and z2:\",z4)\n",
    "    def multiplication(self,z1,z2): \n",
    "        z5=z1*z2\n",
    "        print(\"Mulitplication of z1 and z2: \",z5)\n",
    "a=operations()\n",
    "\n",
    "#Printing output of opeations\n",
    "\n",
    "a.addition(z1,z2)\n",
    "a.subtract(z1,z2)\n",
    "a.multiplication(z1,z2)\n"
   ]
  }
 ],
 "metadata": {
  "kernelspec": {
   "display_name": "Python 3.10.8 64-bit",
   "language": "python",
   "name": "python3"
  },
  "language_info": {
   "codemirror_mode": {
    "name": "ipython",
    "version": 3
   },
   "file_extension": ".py",
   "mimetype": "text/x-python",
   "name": "python",
   "nbconvert_exporter": "python",
   "pygments_lexer": "ipython3",
   "version": "3.10.8"
  },
  "orig_nbformat": 4,
  "vscode": {
   "interpreter": {
    "hash": "369f2c481f4da34e4445cda3fffd2e751bd1c4d706f27375911949ba6bb62e1c"
   }
  }
 },
 "nbformat": 4,
 "nbformat_minor": 2
}
